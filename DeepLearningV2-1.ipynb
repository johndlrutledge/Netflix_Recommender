{
 "cells": [
  {
   "cell_type": "code",
   "execution_count": 26,
   "id": "665c7ce0",
   "metadata": {
    "scrolled": true
   },
   "outputs": [
    {
     "name": "stdout",
     "output_type": "stream",
     "text": [
      "Collecting matplotlib\n",
      "  Downloading matplotlib-3.5.1-cp38-cp38-win_amd64.whl (7.2 MB)\n",
      "Collecting kiwisolver>=1.0.1\n",
      "  Downloading kiwisolver-1.4.2-cp38-cp38-win_amd64.whl (55 kB)\n",
      "Collecting cycler>=0.10\n",
      "  Downloading cycler-0.11.0-py3-none-any.whl (6.4 kB)\n",
      "Requirement already satisfied: packaging>=20.0 in c:\\users\\william\\desktop\\jupyter\\jupytervenv\\lib\\site-packages (from matplotlib) (21.3)\n",
      "Requirement already satisfied: pyparsing>=2.2.1 in c:\\users\\william\\desktop\\jupyter\\jupytervenv\\lib\\site-packages (from matplotlib) (3.0.8)\n",
      "Requirement already satisfied: numpy>=1.17 in c:\\users\\william\\desktop\\jupyter\\jupytervenv\\lib\\site-packages (from matplotlib) (1.22.3)\n",
      "Collecting pillow>=6.2.0\n",
      "  Downloading Pillow-9.1.0-cp38-cp38-win_amd64.whl (3.3 MB)\n",
      "Requirement already satisfied: python-dateutil>=2.7 in c:\\users\\william\\desktop\\jupyter\\jupytervenv\\lib\\site-packages (from matplotlib) (2.8.2)\n",
      "Collecting fonttools>=4.22.0\n",
      "  Downloading fonttools-4.33.3-py3-none-any.whl (930 kB)\n",
      "Requirement already satisfied: six>=1.5 in c:\\users\\william\\desktop\\jupyter\\jupytervenv\\lib\\site-packages (from python-dateutil>=2.7->matplotlib) (1.16.0)\n",
      "Installing collected packages: pillow, kiwisolver, fonttools, cycler, matplotlib\n",
      "Successfully installed cycler-0.11.0 fonttools-4.33.3 kiwisolver-1.4.2 matplotlib-3.5.1 pillow-9.1.0\n",
      "Note: you may need to restart the kernel to use updated packages.\n"
     ]
    },
    {
     "name": "stderr",
     "output_type": "stream",
     "text": [
      "WARNING: You are using pip version 21.1.1; however, version 22.0.4 is available.\n",
      "You should consider upgrading via the 'c:\\users\\william\\desktop\\jupyter\\jupytervenv\\scripts\\python.exe -m pip install --upgrade pip' command.\n"
     ]
    }
   ],
   "source": [
    "%pip install matplotlib"
   ]
  },
  {
   "cell_type": "code",
   "execution_count": 34,
   "id": "ea42702a",
   "metadata": {},
   "outputs": [],
   "source": [
    "import numpy as np \n",
    "import pandas as pd \n",
    "import os\n",
    "import tensorflow as tf\n",
    "import matplotlib.pyplot as plt\n",
    "import pickle\n",
    "\n",
    "from sklearn.model_selection import train_test_split\n",
    "from sklearn.preprocessing import LabelEncoder\n",
    "from sklearn.metrics import mean_squared_error\n",
    "\n",
    "from tensorflow import keras\n",
    "from keras.layers import Input, Embedding, Reshape, Dot, Concatenate, Dense, Dropout\n",
    "from keras.models import Model\n",
    "from tensorflow.keras.optimizers import Adam"
   ]
  },
  {
   "cell_type": "code",
   "execution_count": 15,
   "id": "6cb5e61a",
   "metadata": {},
   "outputs": [],
   "source": [
    "df = pd.read_csv('top_data.csv')"
   ]
  },
  {
   "cell_type": "code",
   "execution_count": 16,
   "id": "dd67b534",
   "metadata": {
    "scrolled": true
   },
   "outputs": [
    {
     "data": {
      "text/html": [
       "<div>\n",
       "<style scoped>\n",
       "    .dataframe tbody tr th:only-of-type {\n",
       "        vertical-align: middle;\n",
       "    }\n",
       "\n",
       "    .dataframe tbody tr th {\n",
       "        vertical-align: top;\n",
       "    }\n",
       "\n",
       "    .dataframe thead th {\n",
       "        text-align: right;\n",
       "    }\n",
       "</style>\n",
       "<table border=\"1\" class=\"dataframe\">\n",
       "  <thead>\n",
       "    <tr style=\"text-align: right;\">\n",
       "      <th></th>\n",
       "      <th>movie_id</th>\n",
       "      <th>user_id</th>\n",
       "      <th>rating</th>\n",
       "      <th>date</th>\n",
       "      <th>rating_r</th>\n",
       "      <th>rating_r.1</th>\n",
       "      <th>user</th>\n",
       "      <th>movie</th>\n",
       "    </tr>\n",
       "  </thead>\n",
       "  <tbody>\n",
       "    <tr>\n",
       "      <th>5149</th>\n",
       "      <td>8</td>\n",
       "      <td>1488844</td>\n",
       "      <td>4</td>\n",
       "      <td>2005-05-12</td>\n",
       "      <td>2206</td>\n",
       "      <td>14910</td>\n",
       "      <td>5591</td>\n",
       "      <td>0</td>\n",
       "    </tr>\n",
       "    <tr>\n",
       "      <th>5883</th>\n",
       "      <td>8</td>\n",
       "      <td>1227322</td>\n",
       "      <td>5</td>\n",
       "      <td>2005-05-31</td>\n",
       "      <td>4752</td>\n",
       "      <td>14910</td>\n",
       "      <td>4587</td>\n",
       "      <td>0</td>\n",
       "    </tr>\n",
       "    <tr>\n",
       "      <th>6183</th>\n",
       "      <td>8</td>\n",
       "      <td>525356</td>\n",
       "      <td>4</td>\n",
       "      <td>2005-08-26</td>\n",
       "      <td>4913</td>\n",
       "      <td>14910</td>\n",
       "      <td>1944</td>\n",
       "      <td>0</td>\n",
       "    </tr>\n",
       "    <tr>\n",
       "      <th>6310</th>\n",
       "      <td>8</td>\n",
       "      <td>401047</td>\n",
       "      <td>2</td>\n",
       "      <td>2005-06-15</td>\n",
       "      <td>2119</td>\n",
       "      <td>14910</td>\n",
       "      <td>1465</td>\n",
       "      <td>0</td>\n",
       "    </tr>\n",
       "    <tr>\n",
       "      <th>7140</th>\n",
       "      <td>8</td>\n",
       "      <td>883478</td>\n",
       "      <td>5</td>\n",
       "      <td>2005-10-10</td>\n",
       "      <td>3222</td>\n",
       "      <td>14910</td>\n",
       "      <td>3259</td>\n",
       "      <td>0</td>\n",
       "    </tr>\n",
       "    <tr>\n",
       "      <th>...</th>\n",
       "      <td>...</td>\n",
       "      <td>...</td>\n",
       "      <td>...</td>\n",
       "      <td>...</td>\n",
       "      <td>...</td>\n",
       "      <td>...</td>\n",
       "      <td>...</td>\n",
       "      <td>...</td>\n",
       "    </tr>\n",
       "    <tr>\n",
       "      <th>45663998</th>\n",
       "      <td>8163</td>\n",
       "      <td>778937</td>\n",
       "      <td>3</td>\n",
       "      <td>2005-06-10</td>\n",
       "      <td>1284</td>\n",
       "      <td>12553</td>\n",
       "      <td>2874</td>\n",
       "      <td>914</td>\n",
       "    </tr>\n",
       "    <tr>\n",
       "      <th>45668920</th>\n",
       "      <td>8163</td>\n",
       "      <td>1230845</td>\n",
       "      <td>3</td>\n",
       "      <td>2005-02-18</td>\n",
       "      <td>1277</td>\n",
       "      <td>12553</td>\n",
       "      <td>4603</td>\n",
       "      <td>914</td>\n",
       "    </tr>\n",
       "    <tr>\n",
       "      <th>45670283</th>\n",
       "      <td>8163</td>\n",
       "      <td>733887</td>\n",
       "      <td>4</td>\n",
       "      <td>2005-01-04</td>\n",
       "      <td>1779</td>\n",
       "      <td>12553</td>\n",
       "      <td>2701</td>\n",
       "      <td>914</td>\n",
       "    </tr>\n",
       "    <tr>\n",
       "      <th>45666732</th>\n",
       "      <td>8163</td>\n",
       "      <td>1645937</td>\n",
       "      <td>3</td>\n",
       "      <td>2005-02-01</td>\n",
       "      <td>1106</td>\n",
       "      <td>12553</td>\n",
       "      <td>6176</td>\n",
       "      <td>914</td>\n",
       "    </tr>\n",
       "    <tr>\n",
       "      <th>45665321</th>\n",
       "      <td>8163</td>\n",
       "      <td>1216109</td>\n",
       "      <td>4</td>\n",
       "      <td>2005-03-11</td>\n",
       "      <td>1252</td>\n",
       "      <td>12553</td>\n",
       "      <td>4546</td>\n",
       "      <td>914</td>\n",
       "    </tr>\n",
       "  </tbody>\n",
       "</table>\n",
       "<p>9623666 rows × 8 columns</p>\n",
       "</div>"
      ],
      "text/plain": [
       "          movie_id  user_id  rating        date  rating_r  rating_r.1  user  \\\n",
       "5149             8  1488844       4  2005-05-12      2206       14910  5591   \n",
       "5883             8  1227322       5  2005-05-31      4752       14910  4587   \n",
       "6183             8   525356       4  2005-08-26      4913       14910  1944   \n",
       "6310             8   401047       2  2005-06-15      2119       14910  1465   \n",
       "7140             8   883478       5  2005-10-10      3222       14910  3259   \n",
       "...            ...      ...     ...         ...       ...         ...   ...   \n",
       "45663998      8163   778937       3  2005-06-10      1284       12553  2874   \n",
       "45668920      8163  1230845       3  2005-02-18      1277       12553  4603   \n",
       "45670283      8163   733887       4  2005-01-04      1779       12553  2701   \n",
       "45666732      8163  1645937       3  2005-02-01      1106       12553  6176   \n",
       "45665321      8163  1216109       4  2005-03-11      1252       12553  4546   \n",
       "\n",
       "          movie  \n",
       "5149          0  \n",
       "5883          0  \n",
       "6183          0  \n",
       "6310          0  \n",
       "7140          0  \n",
       "...         ...  \n",
       "45663998    914  \n",
       "45668920    914  \n",
       "45670283    914  \n",
       "45666732    914  \n",
       "45665321    914  \n",
       "\n",
       "[9623666 rows x 8 columns]"
      ]
     },
     "execution_count": 16,
     "metadata": {},
     "output_type": "execute_result"
    }
   ],
   "source": [
    "user_enc = LabelEncoder()\n",
    "df['user'] = user_enc.fit_transform(df['user_id'].values)\n",
    "movie_enc = LabelEncoder()\n",
    "df['movie'] = movie_enc.fit_transform(df['movie_id'].values)\n",
    "\n",
    "numMovies = df['movie'].nunique()\n",
    "numUsers = df['user'].nunique()\n",
    "\n",
    "df"
   ]
  },
  {
   "cell_type": "code",
   "execution_count": 17,
   "id": "97323483",
   "metadata": {},
   "outputs": [
    {
     "name": "stdout",
     "output_type": "stream",
     "text": [
      "2000 10000\n"
     ]
    }
   ],
   "source": [
    "print(numMovies, numUsers)"
   ]
  },
  {
   "cell_type": "code",
   "execution_count": 56,
   "id": "87b920aa",
   "metadata": {},
   "outputs": [],
   "source": [
    "x = df[['user', 'movie']].values\n",
    "y = df['rating'].values \n",
    "\n",
    "x_train, x_test, y_train, y_test = train_test_split(x, y, test_size = 0.2)\n",
    "x_train, x_val, y_train, y_val = train_test_split(x_train, y_train, test_size = 0.1)\n",
    "\n",
    "#sqrt(UniqueValues) * 1.6\n",
    "userEmbeddingDim = 160\n",
    "movieEmbeddingDim = 70\n",
    "\n",
    "xTrain = [x_train[:, 0], x_train[:, 1]]\n",
    "xVal = [x_val[:, 0], x_val[:, 1]]\n",
    "xTest = [x_test[:, 0], x_test[:, 1]]"
   ]
  },
  {
   "cell_type": "code",
   "execution_count": 61,
   "id": "4fb47a21",
   "metadata": {
    "scrolled": false
   },
   "outputs": [
    {
     "name": "stdout",
     "output_type": "stream",
     "text": [
      "[array([6556, 8611, 2127, ..., 8970, 3289, 3118], dtype=int64), array([ 433,  169, 1444, ..., 1718,   73,  136], dtype=int64)]\n"
     ]
    }
   ],
   "source": [
    "print(xTest)"
   ]
  },
  {
   "cell_type": "code",
   "execution_count": 19,
   "id": "03e8cce5",
   "metadata": {},
   "outputs": [],
   "source": [
    "userInput = Input(shape=[1], name = 'user')\n",
    "movieInput = Input(shape=[1], name = 'movie')\n",
    "\n",
    "userEmbedding = Embedding(output_dim = userEmbeddingDim, \n",
    "                         input_dim = numUsers, \n",
    "                         input_length = 1, \n",
    "                         name='user_embedding')(userInput)\n",
    "movieEmbedding= Embedding(output_dim = movieEmbeddingDim, \n",
    "                         input_dim = numMovies, \n",
    "                         input_length = 1, \n",
    "                         name = 'movie_embedding')(movieInput)\n",
    "\n",
    "userVector = Reshape([userEmbeddingDim])(userEmbedding)\n",
    "movieVector = Reshape([movieEmbeddingDim])(movieEmbedding)\n",
    "\n",
    "concat = Concatenate()([userVector, movieVector])\n",
    "\n",
    "layers = Dense(256, activation = 'relu')(concat)\n",
    "layers = Dropout(0.1)(layers)\n",
    "layers = Dense(128, activation = 'relu')(layers)\n",
    "layers = Dropout(0.1)(layers) \n",
    "layers = Dense(64, activation = 'relu')(layers)\n",
    "layers = Dense(1)(layers)\n",
    "\n",
    "model = Model(inputs = [userInput, movieInput], outputs = layers)\n",
    "model.compile(loss = 'mse', \n",
    "              optimizer = 'adam', \n",
    "              metrics = [tf.keras.metrics.RootMeanSquaredError()])\n",
    "\n",
    "callbacks_list = [keras.callbacks.EarlyStopping(monitor = 'val_loss', patience = 3,), \n",
    "                 keras.callbacks.ModelCheckpoint(filepath = 'DLmodel', \n",
    "                                                monitor = 'val_loss', \n",
    "                                                save_best_only = True)]\n"
   ]
  },
  {
   "cell_type": "code",
   "execution_count": 20,
   "id": "ecd7fab9",
   "metadata": {
    "scrolled": false
   },
   "outputs": [
    {
     "name": "stdout",
     "output_type": "stream",
     "text": [
      "Model: \"model\"\n",
      "__________________________________________________________________________________________________\n",
      " Layer (type)                   Output Shape         Param #     Connected to                     \n",
      "==================================================================================================\n",
      " user (InputLayer)              [(None, 1)]          0           []                               \n",
      "                                                                                                  \n",
      " movie (InputLayer)             [(None, 1)]          0           []                               \n",
      "                                                                                                  \n",
      " user_embedding (Embedding)     (None, 1, 160)       1600000     ['user[0][0]']                   \n",
      "                                                                                                  \n",
      " movie_embedding (Embedding)    (None, 1, 70)        140000      ['movie[0][0]']                  \n",
      "                                                                                                  \n",
      " reshape (Reshape)              (None, 160)          0           ['user_embedding[0][0]']         \n",
      "                                                                                                  \n",
      " reshape_1 (Reshape)            (None, 70)           0           ['movie_embedding[0][0]']        \n",
      "                                                                                                  \n",
      " concatenate (Concatenate)      (None, 230)          0           ['reshape[0][0]',                \n",
      "                                                                  'reshape_1[0][0]']              \n",
      "                                                                                                  \n",
      " dense (Dense)                  (None, 256)          59136       ['concatenate[0][0]']            \n",
      "                                                                                                  \n",
      " dropout (Dropout)              (None, 256)          0           ['dense[0][0]']                  \n",
      "                                                                                                  \n",
      " dense_1 (Dense)                (None, 128)          32896       ['dropout[0][0]']                \n",
      "                                                                                                  \n",
      " dropout_1 (Dropout)            (None, 128)          0           ['dense_1[0][0]']                \n",
      "                                                                                                  \n",
      " dense_2 (Dense)                (None, 64)           8256        ['dropout_1[0][0]']              \n",
      "                                                                                                  \n",
      " dense_3 (Dense)                (None, 1)            65          ['dense_2[0][0]']                \n",
      "                                                                                                  \n",
      "==================================================================================================\n",
      "Total params: 1,840,353\n",
      "Trainable params: 1,840,353\n",
      "Non-trainable params: 0\n",
      "__________________________________________________________________________________________________\n"
     ]
    }
   ],
   "source": [
    "model.summary()"
   ]
  },
  {
   "cell_type": "code",
   "execution_count": 21,
   "id": "332183f5",
   "metadata": {},
   "outputs": [
    {
     "name": "stdout",
     "output_type": "stream",
     "text": [
      "Epoch 1/25\n",
      "54134/54134 [==============================] - ETA: 0s - loss: 0.7699 - root_mean_squared_error: 0.8774INFO:tensorflow:Assets written to: DLmodel\\assets\n",
      "54134/54134 [==============================] - 868s 16ms/step - loss: 0.7699 - root_mean_squared_error: 0.8774 - val_loss: 0.7118 - val_root_mean_squared_error: 0.8437\n",
      "Epoch 2/25\n",
      "54134/54134 [==============================] - ETA: 0s - loss: 0.6958 - root_mean_squared_error: 0.8341INFO:tensorflow:Assets written to: DLmodel\\assets\n",
      "54134/54134 [==============================] - 1043s 19ms/step - loss: 0.6958 - root_mean_squared_error: 0.8341 - val_loss: 0.6920 - val_root_mean_squared_error: 0.8319\n",
      "Epoch 3/25\n",
      "54134/54134 [==============================] - ETA: 0s - loss: 0.6684 - root_mean_squared_error: 0.8176INFO:tensorflow:Assets written to: DLmodel\\assets\n",
      "54134/54134 [==============================] - 819s 15ms/step - loss: 0.6684 - root_mean_squared_error: 0.8176 - val_loss: 0.6634 - val_root_mean_squared_error: 0.8145\n",
      "Epoch 4/25\n",
      "54130/54134 [============================>.] - ETA: 0s - loss: 0.6478 - root_mean_squared_error: 0.8048INFO:tensorflow:Assets written to: DLmodel\\assets\n",
      "54134/54134 [==============================] - 738s 14ms/step - loss: 0.6478 - root_mean_squared_error: 0.8048 - val_loss: 0.6535 - val_root_mean_squared_error: 0.8084\n",
      "Epoch 5/25\n",
      "54133/54134 [============================>.] - ETA: 0s - loss: 0.6310 - root_mean_squared_error: 0.7944INFO:tensorflow:Assets written to: DLmodel\\assets\n",
      "54134/54134 [==============================] - 623s 12ms/step - loss: 0.6310 - root_mean_squared_error: 0.7944 - val_loss: 0.6369 - val_root_mean_squared_error: 0.7981\n",
      "Epoch 6/25\n",
      "54130/54134 [============================>.] - ETA: 0s - loss: 0.6184 - root_mean_squared_error: 0.7864INFO:tensorflow:Assets written to: DLmodel\\assets\n",
      "54134/54134 [==============================] - 626s 12ms/step - loss: 0.6184 - root_mean_squared_error: 0.7864 - val_loss: 0.6319 - val_root_mean_squared_error: 0.7949\n",
      "Epoch 7/25\n",
      "54134/54134 [==============================] - ETA: 0s - loss: 0.6073 - root_mean_squared_error: 0.7793INFO:tensorflow:Assets written to: DLmodel\\assets\n",
      "54134/54134 [==============================] - 638s 12ms/step - loss: 0.6073 - root_mean_squared_error: 0.7793 - val_loss: 0.6271 - val_root_mean_squared_error: 0.7919\n",
      "Epoch 8/25\n",
      "54132/54134 [============================>.] - ETA: 0s - loss: 0.5977 - root_mean_squared_error: 0.7731INFO:tensorflow:Assets written to: DLmodel\\assets\n",
      "54134/54134 [==============================] - 554s 10ms/step - loss: 0.5977 - root_mean_squared_error: 0.7731 - val_loss: 0.6204 - val_root_mean_squared_error: 0.7877\n",
      "Epoch 9/25\n",
      "54131/54134 [============================>.] - ETA: 0s - loss: 0.5895 - root_mean_squared_error: 0.7678INFO:tensorflow:Assets written to: DLmodel\\assets\n",
      "54134/54134 [==============================] - 559s 10ms/step - loss: 0.5895 - root_mean_squared_error: 0.7678 - val_loss: 0.6190 - val_root_mean_squared_error: 0.7868\n",
      "Epoch 10/25\n",
      "54129/54134 [============================>.] - ETA: 0s - loss: 0.5823 - root_mean_squared_error: 0.7631INFO:tensorflow:Assets written to: DLmodel\\assets\n",
      "54134/54134 [==============================] - 547s 10ms/step - loss: 0.5823 - root_mean_squared_error: 0.7631 - val_loss: 0.6179 - val_root_mean_squared_error: 0.7861\n",
      "Epoch 11/25\n",
      "54133/54134 [============================>.] - ETA: 0s - loss: 0.5755 - root_mean_squared_error: 0.7586INFO:tensorflow:Assets written to: DLmodel\\assets\n",
      "54134/54134 [==============================] - 568s 10ms/step - loss: 0.5755 - root_mean_squared_error: 0.7586 - val_loss: 0.6152 - val_root_mean_squared_error: 0.7843\n",
      "Epoch 12/25\n",
      "54130/54134 [============================>.] - ETA: 0s - loss: 0.5691 - root_mean_squared_error: 0.7544INFO:tensorflow:Assets written to: DLmodel\\assets\n",
      "54134/54134 [==============================] - 552s 10ms/step - loss: 0.5691 - root_mean_squared_error: 0.7544 - val_loss: 0.6141 - val_root_mean_squared_error: 0.7837\n",
      "Epoch 13/25\n",
      "54134/54134 [==============================] - ETA: 0s - loss: 0.5632 - root_mean_squared_error: 0.7505INFO:tensorflow:Assets written to: DLmodel\\assets\n",
      "54134/54134 [==============================] - 541s 10ms/step - loss: 0.5632 - root_mean_squared_error: 0.7505 - val_loss: 0.6120 - val_root_mean_squared_error: 0.7823\n",
      "Epoch 14/25\n",
      "54134/54134 [==============================] - 550s 10ms/step - loss: 0.5576 - root_mean_squared_error: 0.7467 - val_loss: 0.6149 - val_root_mean_squared_error: 0.7842\n",
      "Epoch 15/25\n",
      "54134/54134 [==============================] - 547s 10ms/step - loss: 0.5525 - root_mean_squared_error: 0.7433 - val_loss: 0.6139 - val_root_mean_squared_error: 0.7835\n",
      "Epoch 16/25\n",
      "54130/54134 [============================>.] - ETA: 0s - loss: 0.5479 - root_mean_squared_error: 0.7402INFO:tensorflow:Assets written to: DLmodel\\assets\n",
      "54134/54134 [==============================] - 551s 10ms/step - loss: 0.5479 - root_mean_squared_error: 0.7402 - val_loss: 0.6109 - val_root_mean_squared_error: 0.7816\n",
      "Epoch 17/25\n",
      "54134/54134 [==============================] - 527s 10ms/step - loss: 0.5432 - root_mean_squared_error: 0.7370 - val_loss: 0.6136 - val_root_mean_squared_error: 0.7834\n",
      "Epoch 18/25\n",
      "54134/54134 [==============================] - 524s 10ms/step - loss: 0.5389 - root_mean_squared_error: 0.7341 - val_loss: 0.6171 - val_root_mean_squared_error: 0.7856\n",
      "Epoch 19/25\n",
      "54134/54134 [==============================] - 491s 9ms/step - loss: 0.5350 - root_mean_squared_error: 0.7314 - val_loss: 0.6126 - val_root_mean_squared_error: 0.7827\n",
      "INFO:tensorflow:Assets written to: DLmodel1\\assets\n"
     ]
    }
   ],
   "source": [
    "model.fit(x = xTrain, \n",
    "          y = y_train, \n",
    "          batch_size = 128, \n",
    "          epochs = 25, \n",
    "          verbose = 1, \n",
    "          callbacks = callbacks_list, \n",
    "          validation_data = (xVal, y_val))\n",
    "model.save('DLmodel1')"
   ]
  },
  {
   "cell_type": "code",
   "execution_count": 28,
   "id": "ebf5ff3d",
   "metadata": {},
   "outputs": [
    {
     "data": {
      "image/png": "[encoded data removed]",
      "text/plain": [
       "<Figure size 432x288 with 1 Axes>"
      ]
     },
     "metadata": {
      "needs_background": "light"
     },
     "output_type": "display_data"
    }
   ],
   "source": [
    "loss_values = model.history.history['loss']\n",
    "val_loss_values = model.history.history['val_loss']\n",
    "epochs = range(1, len(loss_values) + 1)\n",
    "\n",
    "plt.plot(epochs, loss_values, 'ro', label='Training loss')\n",
    "plt.plot(epochs, val_loss_values, 'b', label='Validation loss')\n",
    "plt.title('Training and validation loss')\n",
    "plt.xlabel('Epochs')\n",
    "plt.ylabel('Loss')\n",
    "plt.legend()\n",
    "plt.show()"
   ]
  },
  {
   "cell_type": "code",
   "execution_count": 115,
   "id": "298ee126",
   "metadata": {},
   "outputs": [
    {
     "name": "stdout",
     "output_type": "stream",
     "text": [
      "0.7310768565207791\n"
     ]
    }
   ],
   "source": [
    "y_pred = model.predict(xTest)\n",
    "rmse = np.sqrt(mean_squared_error(y_pred, y_test))\n",
    "print(rmse)"
   ]
  },
  {
   "cell_type": "code",
   "execution_count": 116,
   "id": "2d30d6d0",
   "metadata": {},
   "outputs": [],
   "source": [
    "model = keras.models.load_model('DLmodel')"
   ]
  },
  {
   "cell_type": "code",
   "execution_count": 117,
   "id": "7a428a8c",
   "metadata": {},
   "outputs": [
    {
     "name": "stdout",
     "output_type": "stream",
     "text": [
      "0.7379633152278604\n"
     ]
    }
   ],
   "source": [
    "y_pred = model.predict(xTest)\n",
    "rmse = np.sqrt(mean_squared_error(y_pred, y_test))\n",
    "print(rmse)"
   ]
  },
  {
   "cell_type": "code",
   "execution_count": 74,
   "id": "b7848b03",
   "metadata": {},
   "outputs": [
    {
     "name": "stdout",
     "output_type": "stream",
     "text": [
      "1924734\n",
      "[ 433  169 1444 ... 1718   73  136]\n"
     ]
    }
   ],
   "source": [
    "print(len(y_pred))\n",
    "print(xTest[1])"
   ]
  },
  {
   "cell_type": "code",
   "execution_count": 43,
   "id": "36e88a1d",
   "metadata": {
    "scrolled": false
   },
   "outputs": [],
   "source": [
    "usersDict = {}\n",
    "for index in range(0, len(df)-1): \n",
    "    userID = df.iloc[index].at['user_id']\n",
    "    movieID = df.iloc[index].at['movie']\n",
    "    \n",
    "    if userID in usersDict.keys(): \n",
    "        usersDict[userID].append(movieID)\n",
    "    else: \n",
    "        usersDict[userID] = [movieID]"
   ]
  },
  {
   "cell_type": "code",
   "execution_count": 50,
   "id": "bc1cc6d1",
   "metadata": {},
   "outputs": [
    {
     "name": "stdout",
     "output_type": "stream",
     "text": [
      "1488844\n"
     ]
    }
   ],
   "source": [
    "print(list(usersDict.keys())[0])"
   ]
  },
  {
   "cell_type": "code",
   "execution_count": 44,
   "id": "1bc1735a",
   "metadata": {},
   "outputs": [],
   "source": [
    "with open('usersMovieDict.pkl', 'wb') as handle: \n",
    "    pickle.dump(usersDict, handle, protocol=pickle.HIGHEST_PROTOCOL)\n",
    "#reload usersDict form pkl"
   ]
  },
  {
   "cell_type": "code",
   "execution_count": 118,
   "id": "6637eec0",
   "metadata": {},
   "outputs": [],
   "source": [
    "def recommendMovie(model, userID, userMovieList, movieList):\n",
    "    predictionDict = {}\n",
    "    #predictionList = [i for i in movieList if i not in userMovieList]\n",
    "    for movie in movieList:\n",
    "        if movie not in userMovieList:\n",
    "            #pair = tf.expand_dims([userID, movie], axis = 0)\n",
    "            predictionDict[movie] = model.predict(userID, movie)\n",
    "            \n",
    "    sorted(predictionDict.items(), key=lambda x: x[1])\n",
    "    \n",
    "    return list(predictionDict.keys())[0][1]"
   ]
  },
  {
   "cell_type": "code",
   "execution_count": null,
   "id": "f2a53938",
   "metadata": {},
   "outputs": [],
   "source": []
  }
 ],
 "metadata": {
  "kernelspec": {
   "display_name": "Python 3 (ipykernel)",
   "language": "python",
   "name": "python3"
  },
  "language_info": {
   "codemirror_mode": {
    "name": "ipython",
    "version": 3
   },
   "file_extension": ".py",
   "mimetype": "text/x-python",
   "name": "python",
   "nbconvert_exporter": "python",
   "pygments_lexer": "ipython3",
   "version": "3.8.10"
  }
 },
 "nbformat": 4,
 "nbformat_minor": 5
}
